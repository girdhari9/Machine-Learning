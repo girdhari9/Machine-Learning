{
 "cells": [
  {
   "cell_type": "markdown",
   "metadata": {},
   "source": [
    "### Name: Giridhari Lal Gupta\n",
    "#### Roll Number : 2018201019\n",
    "## Decision Tree\n",
    "##### Decision Tree classifier to predict which valuable employees will leave next . This tree helps in reducing the number of senior employees leaving the company by predicting the next bunch\n",
    "#### Data set downloaded from : http://researchweb.iiit.ac.in/~murtuza.bohra/decision_Tree.zip"
   ]
  },
  {
   "cell_type": "markdown",
   "metadata": {},
   "source": [
    "# Code Section"
   ]
  },
  {
   "cell_type": "markdown",
   "metadata": {},
   "source": [
    "# Import-Libraries"
   ]
  },
  {
   "cell_type": "code",
   "execution_count": 123,
   "metadata": {},
   "outputs": [],
   "source": [
    "import sys\n",
    "import math\n",
    "import pandas as pd\n",
    "import numpy as np\n",
    "from numpy import *\n",
    "import scipy.stats as stats\n",
    "\n",
    "import random\n",
    "import matplotlib.pyplot as plt\n",
    "import seaborn as sns\n",
    "sns.set()\n",
    "%matplotlib inline"
   ]
  },
  {
   "cell_type": "markdown",
   "metadata": {},
   "source": [
    "# Entropy"
   ]
  },
  {
   "cell_type": "code",
   "execution_count": 124,
   "metadata": {},
   "outputs": [],
   "source": [
    "def getEntropy(examples, target):\n",
    "    positive, negative = CountTotalLabels(examples[target])\n",
    "    logv = log(2)\n",
    "    logv = logv * (positive + negative)\n",
    "    Entropy = 0.0\n",
    "    if not positive == 0:\n",
    "        Entropy = positive * (-log(positive/(positive + negative)))/logv\n",
    "    if not negative == 0:\n",
    "        Entropy = Entropy + negative * (-log(negative/(positive + negative)))/logv\n",
    "    return Entropy"
   ]
  },
  {
   "cell_type": "markdown",
   "metadata": {},
   "source": [
    "# Get-Best-Attribute"
   ]
  },
  {
   "cell_type": "code",
   "execution_count": 125,
   "metadata": {},
   "outputs": [],
   "source": [
    "def getBestAttribute(examples, target, attributes, catAtt):\n",
    "    baseEntropy = getEntropy(examples, target)\n",
    "    TotalLength = len(examples)\n",
    "    informationGain = []\n",
    "    \n",
    "    for attribute in attributes:\n",
    "        if attribute in catAtt:\n",
    "            groupedData = examples.groupby(attribute)\n",
    "            totalEntropy = 0\n",
    "            for key,exampleSubset in groupedData:\n",
    "                del exampleSubset[attribute]\n",
    "                entropyOfSubset = getEntropy(exampleSubset,target)\n",
    "                totalEntropy += (len(exampleSubset)/ TotalLength) * entropyOfSubset\n",
    "            informationGain.append([attribute, baseEntropy-totalEntropy, key])\n",
    "        else:\n",
    "            potential_splits = get_potential_splits(examples[attribute])\n",
    "            totalEntropy, val, overall_entropy = 0, 0, 999\n",
    "            for value in potential_splits:\n",
    "                data_below, data_above = split_data(examples, split_column=attribute, split_value=value)\n",
    "                n = len(data_below) + len(data_above)\n",
    "                totalEntropy =  ((len(data_below) / n) * getEntropy(data_below, target) \n",
    "                                  + (len(data_above) / n) * getEntropy(data_above, target))\n",
    "                if totalEntropy <= overall_entropy:\n",
    "                    overall_entropy = totalEntropy\n",
    "                    val = value\n",
    "            informationGain.append([attribute,baseEntropy-overall_entropy,val])\n",
    "\n",
    "    bestAttribute = max(informationGain, key=lambda x: x[1])\n",
    "    return bestAttribute[0], bestAttribute[2]"
   ]
  },
  {
   "cell_type": "markdown",
   "metadata": {},
   "source": [
    "## Part 4 : Visualise training data on a 2-dimensional plot"
   ]
  },
  {
   "cell_type": "code",
   "execution_count": 126,
   "metadata": {},
   "outputs": [],
   "source": [
    "def decisionTree(examples, target, attributes, catAtt):\n",
    "    att = []\n",
    "    for _ in range(0,2):\n",
    "        bestAttribute, bestValue = getBestAttribute(examples, target, attributes, catAtt)\n",
    "        attributeRoot = TreeNode(bestAttribute)\n",
    "        attributes.remove(bestAttribute)\n",
    "        att.append(bestAttribute)\n",
    "    return att"
   ]
  },
  {
   "cell_type": "markdown",
   "metadata": {},
   "source": [
    "# Train-Test-Split"
   ]
  },
  {
   "cell_type": "code",
   "execution_count": 127,
   "metadata": {},
   "outputs": [],
   "source": [
    "def train_test_split(df, test_size):\n",
    "    if isinstance(test_size, float):\n",
    "        test_size = round(test_size * len(df))\n",
    "    indices = df.index.tolist()\n",
    "    test_indices = random.sample(population=indices, k=test_size)\n",
    "    \n",
    "    test_df = df.loc[test_indices]\n",
    "    train_df = df.drop(test_indices)\n",
    "    return train_df, test_df"
   ]
  },
  {
   "cell_type": "markdown",
   "metadata": {},
   "source": [
    "# Main-Function"
   ]
  },
  {
   "cell_type": "code",
   "execution_count": 147,
   "metadata": {},
   "outputs": [],
   "source": [
    "if __name__ == \"__main__\":\n",
    "    df = pd.read_csv(\"../input_data/train.csv\")\n",
    "    \n",
    "    target = \"left\"\n",
    "\n",
    "    train, test = train_test_split(df, test_size = 0.2)\n",
    "    test = test.reset_index()\n",
    "    \n",
    "    attributes = train.columns.tolist()\n",
    "    attributes.remove(target)\n",
    "    \n",
    "    catAtt = ['Work_accident', 'promotion_last_5years', 'sales', 'salary']\n",
    "\n",
    "    bestAttribute = getFirstTwoBestAttribute(train, target, attributes, catAtt)"
   ]
  },
  {
   "cell_type": "markdown",
   "metadata": {},
   "source": [
    "### Graph between two having maximum information gain"
   ]
  },
  {
   "cell_type": "code",
   "execution_count": 155,
   "metadata": {},
   "outputs": [
    {
     "data": {
      "text/plain": [
       "<seaborn.axisgrid.FacetGrid at 0x7f898893e978>"
      ]
     },
     "execution_count": 155,
     "metadata": {},
     "output_type": "execute_result"
    },
    {
     "data": {
      "image/png": "[encoded data removed]",
      "text/plain": [
       "<Figure size 406.6x360 with 1 Axes>"
      ]
     },
     "metadata": {},
     "output_type": "display_data"
    }
   ],
   "source": [
    "sns.catplot(x = bestAttribute[0], y = bestAttribute[1], hue=\"left\", data=train)"
   ]
  },
  {
   "cell_type": "code",
   "execution_count": null,
   "metadata": {},
   "outputs": [],
   "source": []
  }
 ],
 "metadata": {
  "kernelspec": {
   "display_name": "Python 3",
   "language": "python",
   "name": "python3"
  },
  "language_info": {
   "codemirror_mode": {
    "name": "ipython",
    "version": 3
   },
   "file_extension": ".py",
   "mimetype": "text/x-python",
   "name": "python",
   "nbconvert_exporter": "python",
   "pygments_lexer": "ipython3",
   "version": "3.6.6+"
  }
 },
 "nbformat": 4,
 "nbformat_minor": 2
}
