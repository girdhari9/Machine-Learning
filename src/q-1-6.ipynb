{
 "cells": [
  {
   "cell_type": "markdown",
   "metadata": {},
   "source": [
    "## PART 6 : Decision tree is suitable handle missing values"
   ]
  },
  {
   "cell_type": "markdown",
   "metadata": {},
   "source": [
    "#### Method 1: Mean & Mode\n",
    "###### If information from categorical column is missing then we have a tendency to contemplate {the information|the info|the information} worth whose frequency within the coaching data model is most\n",
    "###### If information from contigous column is missing then we have a tendency to contemplate the mean of that column from coaching information set\n",
    "#### Method 2: Traverse Through all Branches\n",
    "###### In Preciting result for a specific information tuple , suppose in an exceedingly call tree we have a tendency to ar at bound node and also the call attribute there's missing int the check information tuple , therefore we are going to traverse through each branch of that node and contemplate the result no matter are in majority of the results from a similar branches"
   ]
  },
  {
   "cell_type": "code",
   "execution_count": null,
   "metadata": {},
   "outputs": [],
   "source": []
  }
 ],
 "metadata": {
  "kernelspec": {
   "display_name": "Python 3",
   "language": "python",
   "name": "python3"
  },
  "language_info": {
   "codemirror_mode": {
    "name": "ipython",
    "version": 3
   },
   "file_extension": ".py",
   "mimetype": "text/x-python",
   "name": "python",
   "nbconvert_exporter": "python",
   "pygments_lexer": "ipython3",
   "version": "3.6.6+"
  }
 },
 "nbformat": 4,
 "nbformat_minor": 2
}
