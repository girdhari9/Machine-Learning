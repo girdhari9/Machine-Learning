{
 "cells": [
  {
   "cell_type": "markdown",
   "metadata": {},
   "source": [
    "### Name: Giridhari Lal Gupta\n",
    "#### Roll Number : 2018201019\n",
    "## Decision Tree\n",
    "##### Decision Tree classifier to predict which valuable employees will leave next . This tree helps in reducing the number of senior employees leaving the company by predicting the next bunch\n",
    "#### Data set downloaded from : http://researchweb.iiit.ac.in/~murtuza.bohra/decision_Tree.zip"
   ]
  },
  {
   "cell_type": "markdown",
   "metadata": {},
   "source": [
    "# Code Section"
   ]
  },
  {
   "cell_type": "markdown",
   "metadata": {},
   "source": [
    "## Import-Libraries"
   ]
  },
  {
   "cell_type": "code",
   "execution_count": 35,
   "metadata": {},
   "outputs": [],
   "source": [
    "import sys\n",
    "import pandas as pd\n",
    "import numpy as np\n",
    "from numpy import *\n",
    "import scipy.stats as stats\n",
    "import random"
   ]
  },
  {
   "cell_type": "markdown",
   "metadata": {},
   "source": [
    "# Tree-Structure"
   ]
  },
  {
   "cell_type": "code",
   "execution_count": 36,
   "metadata": {},
   "outputs": [],
   "source": [
    "class TreeNode:\n",
    "    def __init__(self, attribute):\n",
    "        self.attribute = attribute\n",
    "        self.children = {}\n",
    "\n",
    "    def display(self, level = 0):\n",
    "        if self.children == {}: \n",
    "            print(\": \", self.attribute, end=\"\")\n",
    "        else:\n",
    "            for value in self.children.keys():\n",
    "                prefix = \"\\n\" + \" \" * level * 4\n",
    "                print(prefix, self.attribute, \"=\", value, end=\"\")\n",
    "                self.children[value].display(level + 1)\n",
    "     \n",
    "    def predicts(self, root):\n",
    "        if self.children == {}: \n",
    "            return self.attribute\n",
    "        value = root[self.attribute]\n",
    "        if value in self.children:\n",
    "            subtree = self.children[value]\n",
    "            return subtree.predicts(root)"
   ]
  },
  {
   "cell_type": "markdown",
   "metadata": {},
   "source": [
    "# Count-Label\n",
    "### Count number of zeros and ones in label column Data"
   ]
  },
  {
   "cell_type": "code",
   "execution_count": 37,
   "metadata": {},
   "outputs": [],
   "source": [
    "def CountTotalLabels(labelData):\n",
    "    positive, negative = 0, 0\n",
    "    for label in labelData:\n",
    "        if label == 0:\n",
    "            positive += 1\n",
    "        else:\n",
    "            negative += 1\n",
    "    return positive, negative"
   ]
  },
  {
   "cell_type": "markdown",
   "metadata": {},
   "source": [
    "# Entropy"
   ]
  },
  {
   "cell_type": "code",
   "execution_count": 38,
   "metadata": {},
   "outputs": [],
   "source": [
    "def getEntropy(examples, target):\n",
    "    positive, negative = CountTotalLabels(examples[target])\n",
    "    logv = log(2)\n",
    "    logv = logv * (positive + negative)\n",
    "    Entropy = 0.0\n",
    "    if not positive == 0:\n",
    "        Entropy = positive * (-log(positive/(positive + negative)))/logv\n",
    "    if not negative == 0:\n",
    "        Entropy = Entropy + negative * (-log(negative/(positive + negative)))/logv\n",
    "    return Entropy"
   ]
  },
  {
   "cell_type": "markdown",
   "metadata": {},
   "source": [
    "# Get-Best-Attribute\n",
    "#### This perform finds the simplest split worth among all potential split purposes and therefore returns that potential point which supplies most info gain"
   ]
  },
  {
   "cell_type": "code",
   "execution_count": 39,
   "metadata": {},
   "outputs": [],
   "source": [
    "def getBestAttribute(examples, target, attributes):\n",
    "    baseEntropy = getEntropy(examples, target)\n",
    "    TotalLength = len(examples)\n",
    "    informationGain = []\n",
    "    \n",
    "    for attribute in attributes:\n",
    "        groupedData = examples.groupby(attribute)\n",
    "        totalEntropy = 0\n",
    "        for key,exampleSubset in groupedData:\n",
    "            del exampleSubset[attribute]\n",
    "            entropyOfSubset = getEntropy(exampleSubset,target)\n",
    "            totalEntropy += (len(exampleSubset)/ TotalLength)*entropyOfSubset\n",
    "        informationGain.append([attribute, baseEntropy-totalEntropy])\n",
    "\n",
    "    bestAttribute = max(informationGain, key=lambda x: x[1])\n",
    "    return bestAttribute[0]"
   ]
  },
  {
   "cell_type": "markdown",
   "metadata": {},
   "source": [
    "# Classify\n",
    "##### This operate finds the info price that represents the leaf throughout prediction time, if there's still impurity within the leaf node and hench are going to be having completely different label values thus we decide the worth at the time of prediction that happens most of the time within the node."
   ]
  },
  {
   "cell_type": "code",
   "execution_count": 40,
   "metadata": {},
   "outputs": [],
   "source": [
    "def classify_data(examples, target, attributes):\n",
    "    if len(attributes) == 0:\n",
    "        item_counts = examples[target].value_counts()\n",
    "        max_item = item_counts.idxmax()\n",
    "        return max_item\n",
    "    else:\n",
    "        return False"
   ]
  },
  {
   "cell_type": "markdown",
   "metadata": {},
   "source": [
    "# Data-Purity?\n",
    "##### If all the values at \"Left\" column square measure same then that's thought of as pure node and isn't any splitted .Hence thought of as leaf node"
   ]
  },
  {
   "cell_type": "code",
   "execution_count": 41,
   "metadata": {},
   "outputs": [],
   "source": [
    "def data_purity(examples, target):\n",
    "    uniques = examples.apply(lambda x: x.nunique()).loc[target]\n",
    "    if uniques == 1:\n",
    "        return True\n",
    "    else:\n",
    "        return False"
   ]
  },
  {
   "cell_type": "markdown",
   "metadata": {},
   "source": [
    "# ID3 Algorithm\n",
    "### Decision Tree Training Model\n",
    "#### This function takes the data ,trains the model and returns the decision tree"
   ]
  },
  {
   "cell_type": "code",
   "execution_count": 42,
   "metadata": {},
   "outputs": [],
   "source": [
    "def decisionTree(examples, target, attributes1):\n",
    "    attributes = attributes1[:] # Make it as Local\n",
    "    if data_purity(examples, target):\n",
    "        return TreeNode(examples[target].iloc[0])\n",
    "\n",
    "    max_item = classify_data(examples, target, attributes)\n",
    "    if len(attributes) == 0:\n",
    "        return TreeNode(max_item)\n",
    "    \n",
    "    bestAttribute = getBestAttribute(examples, target, attributes)\n",
    "    attributeRoot = TreeNode(bestAttribute)\n",
    "    attributes.remove(bestAttribute)\n",
    "    groupedData = examples.groupby(bestAttribute)\n",
    "    \n",
    "    for key,exampleSubset in groupedData:\n",
    "            if len(exampleSubset) == 0:\n",
    "                item_counts = exampleSubset[target].value_counts()\n",
    "                max_item = item_counts.idxmax()\n",
    "                attributeRoot.children[key] = TreeNode(max_item)\n",
    "            else:\n",
    "                attributeRoot.children[key] = decisionTree(exampleSubset.drop([bestAttribute],axis=1), target, attributes)\n",
    "    return attributeRoot"
   ]
  },
  {
   "cell_type": "markdown",
   "metadata": {},
   "source": [
    "# Train-Test-Split"
   ]
  },
  {
   "cell_type": "code",
   "execution_count": 43,
   "metadata": {},
   "outputs": [],
   "source": [
    "def train_test_split(df, test_size):\n",
    "    if isinstance(test_size, float):\n",
    "        test_size = round(test_size * len(df))\n",
    "    indices = df.index.tolist()\n",
    "    test_indices = random.sample(population=indices, k=test_size)\n",
    "    \n",
    "    test_df = df.loc[test_indices]\n",
    "    train_df = df.drop(test_indices)\n",
    "    return train_df, test_df"
   ]
  },
  {
   "cell_type": "markdown",
   "metadata": {},
   "source": [
    "# Evaluating-Tree\n",
    "### Calculation Report\n",
    "#### This function calculates TP, TN, FP, FN ,Accuracy ,Precision, Recall, F1-score\n",
    "##### Accuracy  =  ( TP + TN ) / ( TP + FP + TN + FN )\n",
    "##### Precsion  = TP / ( TP + FP )\n",
    "##### Recall  = TP / ( TP + FN )\n",
    "##### F1 = (2  x Precision x) / ( Precision + Recall) "
   ]
  },
  {
   "cell_type": "code",
   "execution_count": 44,
   "metadata": {},
   "outputs": [],
   "source": [
    "def EvaluatingTree(tree, test, target):\n",
    "    correct = 0\n",
    "    TP, FN, FP = 0,0,0\n",
    "    for i in range(0, len(test)):\n",
    "        if str(tree.predicts(test.loc[i])) == str(test.loc[i,target]):\n",
    "            correct += 1\n",
    "            if(test.loc[i, target] == 0):\n",
    "                FP += 1\n",
    "            else:\n",
    "                TP += 1\n",
    "        else:\n",
    "            if(test.loc[i, target] == 0):\n",
    "                FN += 1\n",
    "    print(\"\\nThe accuracy is: \", correct/len(test))\n",
    "    X = TP + FN\n",
    "    Y = TP + FP\n",
    "    Recall, Precision = 1, 1\n",
    "    if X:\n",
    "        Recall = TP/ X\n",
    "    if Y:\n",
    "        Precision = TP/ Y\n",
    "    print(\"\\nRecall is : \", Recall)\n",
    "    print(\"\\nPrecision is : \", Precision)\n",
    "    if Precision or Recall:\n",
    "        print(\"\\nF1 Score is : \", (2 * (Recall * Precision))/ (Recall + Precision))"
   ]
  },
  {
   "cell_type": "markdown",
   "metadata": {},
   "source": [
    "# Main-Function"
   ]
  },
  {
   "cell_type": "code",
   "execution_count": 45,
   "metadata": {},
   "outputs": [],
   "source": [
    "if __name__ == \"__main__\":\n",
    "    df = pd.read_csv(\"../input_data/train.csv\")\n",
    "    target = \"left\"\n",
    "    raw_att = ['satisfaction_level', 'last_evaluation', 'number_project', 'average_montly_hours', 'time_spend_company']\n",
    "    \n",
    "    train, test = train_test_split(df, test_size = 0.2)\n",
    "    test = test.reset_index()\n",
    "    \n",
    "    test = test.drop(raw_att, axis = 1)\n",
    "    test = test.drop(['index'], axis = 1)\n",
    "    train = train.drop(raw_att, axis = 1)\n",
    "    \n",
    "    attributes = train.columns.tolist()\n",
    "    attributes.remove(target)\n",
    "    \n",
    "    tree = decisionTree(train, target, attributes)"
   ]
  },
  {
   "cell_type": "code",
   "execution_count": 46,
   "metadata": {},
   "outputs": [
    {
     "name": "stdout",
     "output_type": "stream",
     "text": [
      "\n",
      " Work_accident = 0\n",
      "     salary = high\n",
      "         sales = IT\n",
      "             promotion_last_5years = 0:  0\n",
      "         sales = RandD\n",
      "             promotion_last_5years = 0:  0\n",
      "             promotion_last_5years = 1:  0\n",
      "         sales = accounting\n",
      "             promotion_last_5years = 0:  0\n",
      "             promotion_last_5years = 1:  0\n",
      "         sales = hr\n",
      "             promotion_last_5years = 0:  0\n",
      "         sales = management\n",
      "             promotion_last_5years = 0:  0\n",
      "             promotion_last_5years = 1:  0\n",
      "         sales = marketing\n",
      "             promotion_last_5years = 0:  0\n",
      "             promotion_last_5years = 1:  0\n",
      "         sales = product_mng\n",
      "             promotion_last_5years = 0:  0\n",
      "         sales = sales\n",
      "             promotion_last_5years = 0:  0\n",
      "             promotion_last_5years = 1:  0\n",
      "         sales = support\n",
      "             promotion_last_5years = 0:  0\n",
      "         sales = technical\n",
      "             promotion_last_5years = 0:  0\n",
      "     salary = low\n",
      "         sales = IT\n",
      "             promotion_last_5years = 0:  0\n",
      "             promotion_last_5years = 1:  1\n",
      "         sales = RandD\n",
      "             promotion_last_5years = 0:  0\n",
      "             promotion_last_5years = 1:  0\n",
      "         sales = accounting\n",
      "             promotion_last_5years = 0:  0\n",
      "         sales = hr\n",
      "             promotion_last_5years = 0:  0\n",
      "             promotion_last_5years = 1:  0\n",
      "         sales = management\n",
      "             promotion_last_5years = 0:  0\n",
      "             promotion_last_5years = 1:  1\n",
      "         sales = marketing\n",
      "             promotion_last_5years = 0:  0\n",
      "             promotion_last_5years = 1:  0\n",
      "         sales = product_mng\n",
      "             promotion_last_5years = 0:  0\n",
      "         sales = sales\n",
      "             promotion_last_5years = 0:  0\n",
      "             promotion_last_5years = 1:  0\n",
      "         sales = support\n",
      "             promotion_last_5years = 0:  0\n",
      "             promotion_last_5years = 1:  0\n",
      "         sales = technical\n",
      "             promotion_last_5years = 0:  0\n",
      "             promotion_last_5years = 1:  0\n",
      "     salary = medium\n",
      "         sales = IT\n",
      "             promotion_last_5years = 0:  0\n",
      "             promotion_last_5years = 1:  1\n",
      "         sales = RandD\n",
      "             promotion_last_5years = 0:  0\n",
      "             promotion_last_5years = 1:  0\n",
      "         sales = accounting\n",
      "             promotion_last_5years = 0:  0\n",
      "             promotion_last_5years = 1:  0\n",
      "         sales = hr\n",
      "             promotion_last_5years = 0:  0\n",
      "             promotion_last_5years = 1:  0\n",
      "         sales = management\n",
      "             promotion_last_5years = 0:  0\n",
      "             promotion_last_5years = 1:  0\n",
      "         sales = marketing\n",
      "             promotion_last_5years = 0:  0\n",
      "             promotion_last_5years = 1:  0\n",
      "         sales = product_mng\n",
      "             promotion_last_5years = 0:  0\n",
      "         sales = sales\n",
      "             promotion_last_5years = 0:  0\n",
      "             promotion_last_5years = 1:  0\n",
      "         sales = support\n",
      "             promotion_last_5years = 0:  0\n",
      "             promotion_last_5years = 1:  0\n",
      "         sales = technical\n",
      "             promotion_last_5years = 0:  0\n",
      "             promotion_last_5years = 1:  0\n",
      " Work_accident = 1\n",
      "     salary = high:  0\n",
      "     salary = low\n",
      "         sales = IT\n",
      "             promotion_last_5years = 0:  0\n",
      "         sales = RandD\n",
      "             promotion_last_5years = 0:  0\n",
      "             promotion_last_5years = 1:  0\n",
      "         sales = accounting\n",
      "             promotion_last_5years = 0:  0\n",
      "         sales = hr\n",
      "             promotion_last_5years = 0:  0\n",
      "         sales = management\n",
      "             promotion_last_5years = 0:  0\n",
      "             promotion_last_5years = 1:  0\n",
      "         sales = marketing\n",
      "             promotion_last_5years = 0:  0\n",
      "             promotion_last_5years = 1:  0\n",
      "         sales = product_mng\n",
      "             promotion_last_5years = 0:  0\n",
      "         sales = sales\n",
      "             promotion_last_5years = 0:  0\n",
      "             promotion_last_5years = 1:  1\n",
      "         sales = support\n",
      "             promotion_last_5years = 0:  0\n",
      "         sales = technical\n",
      "             promotion_last_5years = 0:  0\n",
      "             promotion_last_5years = 1:  0\n",
      "     salary = medium\n",
      "         sales = IT\n",
      "             promotion_last_5years = 0:  0\n",
      "         sales = RandD:  0\n",
      "         sales = accounting\n",
      "             promotion_last_5years = 0:  0\n",
      "         sales = hr\n",
      "             promotion_last_5years = 0:  0\n",
      "             promotion_last_5years = 1:  0\n",
      "         sales = management\n",
      "             promotion_last_5years = 0:  0\n",
      "         sales = marketing\n",
      "             promotion_last_5years = 0:  0\n",
      "             promotion_last_5years = 1:  0\n",
      "         sales = product_mng\n",
      "             promotion_last_5years = 0:  0\n",
      "         sales = sales\n",
      "             promotion_last_5years = 0:  0\n",
      "             promotion_last_5years = 1:  0\n",
      "         sales = support\n",
      "             promotion_last_5years = 0:  0\n",
      "             promotion_last_5years = 1:  0\n",
      "         sales = technical\n",
      "             promotion_last_5years = 0:  0\n",
      "             promotion_last_5years = 1:  0"
     ]
    }
   ],
   "source": [
    "tree.display()"
   ]
  },
  {
   "cell_type": "code",
   "execution_count": 47,
   "metadata": {},
   "outputs": [
    {
     "name": "stdout",
     "output_type": "stream",
     "text": [
      "\n",
      "The accuracy is:  0.7548932384341637\n",
      "\n",
      "Recall is :  0.2\n",
      "\n",
      "Precision is :  0.0005892751915144372\n",
      "\n",
      "F1 Score is :  0.0011750881316098707\n"
     ]
    }
   ],
   "source": [
    "EvaluatingTree(tree, test, target)"
   ]
  },
  {
   "cell_type": "code",
   "execution_count": null,
   "metadata": {},
   "outputs": [],
   "source": []
  }
 ],
 "metadata": {
  "kernelspec": {
   "display_name": "Python 3",
   "language": "python",
   "name": "python3"
  },
  "language_info": {
   "codemirror_mode": {
    "name": "ipython",
    "version": 3
   },
   "file_extension": ".py",
   "mimetype": "text/x-python",
   "name": "python",
   "nbconvert_exporter": "python",
   "pygments_lexer": "ipython3",
   "version": "3.6.6+"
  }
 },
 "nbformat": 4,
 "nbformat_minor": 2
}
